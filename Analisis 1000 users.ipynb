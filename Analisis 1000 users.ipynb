{
 "cells": [
  {
   "cell_type": "code",
   "execution_count": 65,
   "metadata": {},
   "outputs": [],
   "source": [
    "import pickle"
   ]
  },
  {
   "cell_type": "code",
   "execution_count": 81,
   "metadata": {},
   "outputs": [],
   "source": [
    "list_stats = pickle.load( open( \"./exps/dfw/list_stats.p\", \"rb\" ) )"
   ]
  },
  {
   "cell_type": "code",
   "execution_count": 67,
   "metadata": {},
   "outputs": [],
   "source": [
    "import pandas as pd"
   ]
  },
  {
   "cell_type": "code",
   "execution_count": 82,
   "metadata": {},
   "outputs": [],
   "source": [
    "df = pd.DataFrame(list_stats) "
   ]
  },
  {
   "cell_type": "code",
   "execution_count": 83,
   "metadata": {},
   "outputs": [
    {
     "data": {
      "text/html": [
       "<div>\n",
       "<style scoped>\n",
       "    .dataframe tbody tr th:only-of-type {\n",
       "        vertical-align: middle;\n",
       "    }\n",
       "\n",
       "    .dataframe tbody tr th {\n",
       "        vertical-align: top;\n",
       "    }\n",
       "\n",
       "    .dataframe thead th {\n",
       "        text-align: right;\n",
       "    }\n",
       "</style>\n",
       "<table border=\"1\" class=\"dataframe\">\n",
       "  <thead>\n",
       "    <tr style=\"text-align: right;\">\n",
       "      <th></th>\n",
       "      <th>loss</th>\n",
       "      <th>enc_loss</th>\n",
       "      <th>dec_loss</th>\n",
       "      <th>accuracy0</th>\n",
       "      <th>accuracy3</th>\n",
       "      <th>num_right_bits_without_hamming</th>\n",
       "      <th>avg_acc</th>\n",
       "      <th>num_right_bits</th>\n",
       "    </tr>\n",
       "  </thead>\n",
       "  <tbody>\n",
       "    <tr>\n",
       "      <td>0</td>\n",
       "      <td>0.059956</td>\n",
       "      <td>1.338860</td>\n",
       "      <td>0.046567</td>\n",
       "      <td>0.997368</td>\n",
       "      <td>1.000000</td>\n",
       "      <td>30.202631</td>\n",
       "      <td>0.999798</td>\n",
       "      <td>25.994737</td>\n",
       "    </tr>\n",
       "    <tr>\n",
       "      <td>1</td>\n",
       "      <td>0.014648</td>\n",
       "      <td>1.460977</td>\n",
       "      <td>0.000038</td>\n",
       "      <td>1.000000</td>\n",
       "      <td>1.000000</td>\n",
       "      <td>31.000000</td>\n",
       "      <td>1.000000</td>\n",
       "      <td>26.000000</td>\n",
       "    </tr>\n",
       "    <tr>\n",
       "      <td>2</td>\n",
       "      <td>0.024092</td>\n",
       "      <td>1.660107</td>\n",
       "      <td>0.007491</td>\n",
       "      <td>1.000000</td>\n",
       "      <td>1.000000</td>\n",
       "      <td>30.926316</td>\n",
       "      <td>1.000000</td>\n",
       "      <td>26.000000</td>\n",
       "    </tr>\n",
       "    <tr>\n",
       "      <td>3</td>\n",
       "      <td>0.037986</td>\n",
       "      <td>1.316680</td>\n",
       "      <td>0.024820</td>\n",
       "      <td>0.994737</td>\n",
       "      <td>0.994737</td>\n",
       "      <td>30.663158</td>\n",
       "      <td>0.999393</td>\n",
       "      <td>25.984211</td>\n",
       "    </tr>\n",
       "    <tr>\n",
       "      <td>4</td>\n",
       "      <td>0.024446</td>\n",
       "      <td>1.413112</td>\n",
       "      <td>0.010314</td>\n",
       "      <td>0.994737</td>\n",
       "      <td>0.994737</td>\n",
       "      <td>30.963158</td>\n",
       "      <td>0.999393</td>\n",
       "      <td>25.984211</td>\n",
       "    </tr>\n",
       "  </tbody>\n",
       "</table>\n",
       "</div>"
      ],
      "text/plain": [
       "       loss  enc_loss  dec_loss  accuracy0  accuracy3  \\\n",
       "0  0.059956  1.338860  0.046567   0.997368   1.000000   \n",
       "1  0.014648  1.460977  0.000038   1.000000   1.000000   \n",
       "2  0.024092  1.660107  0.007491   1.000000   1.000000   \n",
       "3  0.037986  1.316680  0.024820   0.994737   0.994737   \n",
       "4  0.024446  1.413112  0.010314   0.994737   0.994737   \n",
       "\n",
       "   num_right_bits_without_hamming   avg_acc  num_right_bits  \n",
       "0                       30.202631  0.999798       25.994737  \n",
       "1                       31.000000  1.000000       26.000000  \n",
       "2                       30.926316  1.000000       26.000000  \n",
       "3                       30.663158  0.999393       25.984211  \n",
       "4                       30.963158  0.999393       25.984211  "
      ]
     },
     "execution_count": 83,
     "metadata": {},
     "output_type": "execute_result"
    }
   ],
   "source": [
    "df.head()"
   ]
  },
  {
   "cell_type": "code",
   "execution_count": 84,
   "metadata": {},
   "outputs": [
    {
     "data": {
      "text/plain": [
       "0.069"
      ]
     },
     "execution_count": 84,
     "metadata": {},
     "output_type": "execute_result"
    }
   ],
   "source": [
    "len(df[(df['accuracy0']<=0.5)])/len(df)"
   ]
  },
  {
   "cell_type": "markdown",
   "metadata": {},
   "source": [
    "For 69 users the accurcay0 is lower than 0.5"
   ]
  },
  {
   "cell_type": "code",
   "execution_count": 85,
   "metadata": {},
   "outputs": [
    {
     "data": {
      "text/plain": [
       "0.031"
      ]
     },
     "execution_count": 85,
     "metadata": {},
     "output_type": "execute_result"
    }
   ],
   "source": [
    "len(df[(df['accuracy0']==0)])/len(df)"
   ]
  },
  {
   "cell_type": "markdown",
   "metadata": {},
   "source": [
    "For 31 users the accuracy0 is 0"
   ]
  },
  {
   "cell_type": "code",
   "execution_count": 86,
   "metadata": {},
   "outputs": [
    {
     "data": {
      "text/plain": [
       "0.894"
      ]
     },
     "execution_count": 86,
     "metadata": {},
     "output_type": "execute_result"
    }
   ],
   "source": [
    "len(df[(df['accuracy0']>=0.9)])/len(df)"
   ]
  },
  {
   "cell_type": "markdown",
   "metadata": {},
   "source": [
    "For 894 users the accuracy0 is greater than 0.9"
   ]
  },
  {
   "cell_type": "code",
   "execution_count": 87,
   "metadata": {},
   "outputs": [
    {
     "data": {
      "text/plain": [
       "1000"
      ]
     },
     "execution_count": 87,
     "metadata": {},
     "output_type": "execute_result"
    }
   ],
   "source": [
    "len(df)"
   ]
  },
  {
   "cell_type": "code",
   "execution_count": null,
   "metadata": {},
   "outputs": [],
   "source": []
  }
 ],
 "metadata": {
  "kernelspec": {
   "display_name": "Python (huggingface)",
   "language": "python",
   "name": "huggingface"
  },
  "language_info": {
   "codemirror_mode": {
    "name": "ipython",
    "version": 3
   },
   "file_extension": ".py",
   "mimetype": "text/x-python",
   "name": "python",
   "nbconvert_exporter": "python",
   "pygments_lexer": "ipython3",
   "version": "3.7.4"
  }
 },
 "nbformat": 4,
 "nbformat_minor": 2
}
